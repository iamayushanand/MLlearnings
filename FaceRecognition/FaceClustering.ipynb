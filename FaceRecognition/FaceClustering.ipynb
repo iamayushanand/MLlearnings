{
  "nbformat": 4,
  "nbformat_minor": 0,
  "metadata": {
    "colab": {
      "name": "FaceClustering.ipynb",
      "provenance": []
    },
    "kernelspec": {
      "name": "python3",
      "display_name": "Python 3"
    },
    "language_info": {
      "name": "python"
    },
    "accelerator": "GPU"
  },
  "cells": [
    {
      "cell_type": "code",
      "metadata": {
        "colab": {
          "base_uri": "https://localhost:8080/"
        },
        "id": "56Fu33uZXt7y",
        "outputId": "7bb53134-a7cf-47cc-e8d5-6074701b6ec5"
      },
      "source": [
        "!pip install face_recognition\n",
        "import face_recognition"
      ],
      "execution_count": 1,
      "outputs": [
        {
          "output_type": "stream",
          "text": [
            "Collecting face_recognition\n",
            "  Downloading https://files.pythonhosted.org/packages/1e/95/f6c9330f54ab07bfa032bf3715c12455a381083125d8880c43cbe76bb3d0/face_recognition-1.3.0-py2.py3-none-any.whl\n",
            "Collecting face-recognition-models>=0.3.0\n",
            "\u001b[?25l  Downloading https://files.pythonhosted.org/packages/cf/3b/4fd8c534f6c0d1b80ce0973d01331525538045084c73c153ee6df20224cf/face_recognition_models-0.3.0.tar.gz (100.1MB)\n",
            "\u001b[K     |████████████████████████████████| 100.2MB 107kB/s \n",
            "\u001b[?25hRequirement already satisfied: dlib>=19.7 in /usr/local/lib/python3.7/dist-packages (from face_recognition) (19.18.0)\n",
            "Requirement already satisfied: Pillow in /usr/local/lib/python3.7/dist-packages (from face_recognition) (7.1.2)\n",
            "Requirement already satisfied: Click>=6.0 in /usr/local/lib/python3.7/dist-packages (from face_recognition) (7.1.2)\n",
            "Requirement already satisfied: numpy in /usr/local/lib/python3.7/dist-packages (from face_recognition) (1.19.5)\n",
            "Building wheels for collected packages: face-recognition-models\n",
            "  Building wheel for face-recognition-models (setup.py) ... \u001b[?25l\u001b[?25hdone\n",
            "  Created wheel for face-recognition-models: filename=face_recognition_models-0.3.0-py2.py3-none-any.whl size=100566184 sha256=687b2c14519dd42b341c682701769812b3dca6fc89540dfdd7a1e522fb89b9ef\n",
            "  Stored in directory: /root/.cache/pip/wheels/d2/99/18/59c6c8f01e39810415c0e63f5bede7d83dfb0ffc039865465f\n",
            "Successfully built face-recognition-models\n",
            "Installing collected packages: face-recognition-models, face-recognition\n",
            "Successfully installed face-recognition-1.3.0 face-recognition-models-0.3.0\n"
          ],
          "name": "stdout"
        }
      ]
    },
    {
      "cell_type": "code",
      "metadata": {
        "colab": {
          "base_uri": "https://localhost:8080/"
        },
        "id": "ifCeqbAuZrQq",
        "outputId": "55eaa9a9-513e-44fa-ec88-5af87dc4fc93"
      },
      "source": [
        "image=face_recognition.load_image_file(\"/content/drive/MyDrive/MLdatasets/Faces/Akshay Kumar_4.jpg\")\n",
        "Encodings=face_recognition.face_encodings(image)\n",
        "print(Encodings)"
      ],
      "execution_count": 2,
      "outputs": [
        {
          "output_type": "stream",
          "text": [
            "[array([-5.57872094e-02,  1.22254618e-01,  2.32796073e-02,  7.47385621e-03,\n",
            "       -2.48584971e-02, -2.56648175e-02, -5.78677952e-02, -8.15333202e-02,\n",
            "        1.57573909e-01, -3.17120925e-02,  1.82984680e-01, -4.23929989e-02,\n",
            "       -2.59787977e-01,  4.36837487e-02, -1.09852180e-01,  1.08392611e-01,\n",
            "       -1.23051032e-01, -6.81483150e-02, -1.33463472e-01, -1.67171881e-01,\n",
            "        2.52938978e-02,  8.21049362e-02,  9.70434844e-02,  3.48128639e-02,\n",
            "       -1.68796733e-01, -2.59126753e-01, -4.62834165e-02, -1.91095367e-01,\n",
            "       -2.01786291e-02, -1.05003908e-01, -4.52315621e-02, -1.47817442e-02,\n",
            "       -2.55571544e-01, -1.09463722e-01, -1.82383880e-03,  3.31329666e-02,\n",
            "       -6.05347790e-02,  3.97916436e-02,  1.66964903e-01,  3.27278823e-02,\n",
            "       -1.21596023e-01,  1.30945027e-01,  6.92050308e-02,  2.73990571e-01,\n",
            "        1.96573898e-01,  1.35961875e-01, -3.68593037e-02, -1.13338642e-01,\n",
            "        8.04552510e-02, -2.43012801e-01,  5.94479367e-02,  1.49006933e-01,\n",
            "        9.06201228e-02,  9.11888182e-02,  5.46818897e-02, -1.46009222e-01,\n",
            "        4.52637300e-02,  5.10606021e-02, -1.60616353e-01,  7.79983774e-02,\n",
            "        1.16497934e-01,  2.20104419e-02, -1.86503623e-02,  7.09904265e-03,\n",
            "        2.02342585e-01,  7.65016228e-02, -9.44370776e-02, -4.86240797e-02,\n",
            "        9.27207023e-02, -1.83102936e-01, -2.10206117e-03,  9.05480012e-02,\n",
            "       -5.20194881e-02, -1.92088932e-01, -2.19060987e-01,  7.52830505e-02,\n",
            "        4.04093206e-01,  9.16805118e-02, -1.42760143e-01,  2.56080702e-02,\n",
            "       -8.52340236e-02,  5.45124896e-03,  6.52419105e-02, -6.16614744e-02,\n",
            "       -1.33891106e-01, -1.94942057e-02, -8.44122767e-02,  4.31042202e-02,\n",
            "        2.07727998e-01, -3.98938097e-02, -1.46198776e-02,  1.88101217e-01,\n",
            "       -1.91786215e-02, -3.04502901e-04,  8.52149725e-02,  1.28295898e-01,\n",
            "       -1.91964701e-01, -4.17535938e-03, -1.51364416e-01,  2.56683640e-02,\n",
            "        3.51087302e-02, -1.34642318e-01, -4.65131290e-02,  9.11266357e-03,\n",
            "       -1.88421175e-01,  1.40622839e-01, -4.26344872e-02, -9.93788317e-02,\n",
            "       -3.92686315e-02,  7.00562149e-02, -1.25065878e-01, -1.12254582e-02,\n",
            "        2.01260641e-01, -2.35916272e-01,  2.78175354e-01,  1.74063966e-01,\n",
            "       -3.77065800e-02,  1.34686962e-01,  7.27125704e-02,  8.57954249e-02,\n",
            "       -7.15469047e-02,  6.31155670e-02, -1.57014459e-01, -1.78428903e-01,\n",
            "        6.11417592e-02, -3.35377976e-02,  8.22885782e-02,  1.36058759e-02])]\n"
          ],
          "name": "stdout"
        }
      ]
    },
    {
      "cell_type": "code",
      "metadata": {
        "colab": {
          "base_uri": "https://localhost:8080/"
        },
        "id": "hY7DsChJdjeL",
        "outputId": "003a5938-a987-4781-d695-df2149a24e6b"
      },
      "source": [
        "import os\n",
        "files=os.listdir(\"/content/drive/MyDrive/MLdatasets/Faces\")\n",
        "#print(files)\n",
        "All_encodings=[]\n",
        "cnt=0\n",
        "for file in files:\n",
        "  image=face_recognition.load_image_file(\"/content/drive/MyDrive/MLdatasets/Faces/\"+file)\n",
        "  Encodings=face_recognition.face_encodings(image)\n",
        "  \n",
        "  if len(Encodings)!=0:\n",
        "    cnt+=1\n",
        "    All_encodings.append(Encodings)\n",
        "  if cnt>1000:\n",
        "    break\n",
        "print(All_encodings[1])"
      ],
      "execution_count": 3,
      "outputs": [
        {
          "output_type": "stream",
          "text": [
            "[array([-0.13148031,  0.06792289,  0.18454021, -0.1082755 , -0.22669341,\n",
            "       -0.06307399, -0.04228718, -0.03025128,  0.21636552, -0.05699933,\n",
            "        0.09873513, -0.0052549 , -0.33164704,  0.146898  , -0.10501738,\n",
            "        0.12472437, -0.14841437, -0.17844635, -0.06187446, -0.06177533,\n",
            "       -0.03732893,  0.03530375,  0.0317318 ,  0.03866576, -0.08867861,\n",
            "       -0.37641817, -0.11380962, -0.04156204, -0.01957569, -0.06305836,\n",
            "        0.07882746,  0.11208065, -0.19585674, -0.01972868,  0.00843314,\n",
            "        0.08790134, -0.12995872, -0.14228044,  0.23293006,  0.03587726,\n",
            "       -0.23763493, -0.05585862,  0.04969992,  0.29247195,  0.23772019,\n",
            "        0.00249925,  0.06088126, -0.04278491,  0.18408562, -0.36631182,\n",
            "       -0.0159908 ,  0.24630611,  0.02614824,  0.0757902 ,  0.12493438,\n",
            "       -0.11250973,  0.04340945,  0.22466449, -0.14443523,  0.12905481,\n",
            "        0.06377739, -0.1364567 ,  0.05139726, -0.09514966,  0.31497169,\n",
            "        0.08563292, -0.1554894 , -0.04495354,  0.2350765 , -0.14175662,\n",
            "       -0.02728974,  0.11164666, -0.15669906, -0.16629805, -0.21120958,\n",
            "        0.04044099,  0.39658436,  0.0660222 , -0.06320246,  0.02294648,\n",
            "       -0.10019559,  0.01168199, -0.0652129 ,  0.12762374, -0.12614289,\n",
            "       -0.02120673, -0.10798088,  0.02612039,  0.33236128, -0.03766705,\n",
            "        0.02503697,  0.28691506,  0.01512197,  0.01144697,  0.0282112 ,\n",
            "        0.06805994, -0.12174075, -0.10481009, -0.18279308,  0.00358564,\n",
            "        0.03940639, -0.12240753, -0.03997575,  0.08964148, -0.14443371,\n",
            "        0.05077812, -0.05760718, -0.01372979, -0.07811852, -0.08964584,\n",
            "       -0.09088006, -0.03903999,  0.21352205, -0.22803898,  0.24600805,\n",
            "        0.13856366, -0.01808955,  0.09474359,  0.03429267,  0.01236463,\n",
            "       -0.03183106, -0.09508742, -0.00828588, -0.07783798,  0.07960313,\n",
            "       -0.00821803,  0.00345045,  0.01350364])]\n"
          ],
          "name": "stdout"
        }
      ]
    },
    {
      "cell_type": "code",
      "metadata": {
        "colab": {
          "base_uri": "https://localhost:8080/"
        },
        "id": "WKddRHtehiXU",
        "outputId": "2ccfee0f-08a5-495e-f115-f7a82c4de59a"
      },
      "source": [
        "import numpy as np\n",
        "print(np.linalg.norm(np.array(All_encodings[1])-np.array(All_encodings[61])))"
      ],
      "execution_count": 4,
      "outputs": [
        {
          "output_type": "stream",
          "text": [
            "0.8042096048428584\n"
          ],
          "name": "stdout"
        }
      ]
    },
    {
      "cell_type": "code",
      "metadata": {
        "id": "oyq1mCRSxURf"
      },
      "source": [
        "from sklearn.decomposition import PCA\n",
        "All_encoding_reshaped=np.array(All_encodings).reshape((1001,128))\n",
        "pca_encoding=PCA(n_components=20).fit(All_encoding_reshaped).transform(All_encoding_reshaped)\n",
        "pca_graph=PCA(n_components=2).fit(All_encoding_reshaped).transform(All_encoding_reshaped)"
      ],
      "execution_count": 11,
      "outputs": []
    },
    {
      "cell_type": "code",
      "metadata": {
        "colab": {
          "base_uri": "https://localhost:8080/",
          "height": 282
        },
        "id": "-ofrfkHNgKAz",
        "outputId": "ec16e1ab-58b5-4db8-d6b6-01bd2de83462"
      },
      "source": [
        "import matplotlib.pyplot as plt\n",
        "plt.scatter(pca_graph[:,0],pca_graph[:,1],)"
      ],
      "execution_count": 12,
      "outputs": [
        {
          "output_type": "execute_result",
          "data": {
            "text/plain": [
              "<matplotlib.collections.PathCollection at 0x7f94ea92a390>"
            ]
          },
          "metadata": {
            "tags": []
          },
          "execution_count": 12
        },
        {
          "output_type": "display_data",
          "data": {
            "image/png": "[encoded data removed]",
            "text/plain": [
              "<Figure size 432x288 with 1 Axes>"
            ]
          },
          "metadata": {
            "tags": [],
            "needs_background": "light"
          }
        }
      ]
    },
    {
      "cell_type": "code",
      "metadata": {
        "colab": {
          "base_uri": "https://localhost:8080/"
        },
        "id": "GKZDNmwPygTJ",
        "outputId": "9d8fda68-15f1-442a-9d85-27b23da16d1f"
      },
      "source": [
        "print(np.linalg.norm(pca_encoding[1]-pca_encoding[50]))"
      ],
      "execution_count": 8,
      "outputs": [
        {
          "output_type": "stream",
          "text": [
            "0.748985571073147\n"
          ],
          "name": "stdout"
        }
      ]
    },
    {
      "cell_type": "code",
      "metadata": {
        "colab": {
          "base_uri": "https://localhost:8080/"
        },
        "id": "JA9meWgckObB",
        "outputId": "d7c67376-c9d1-4c68-9aa4-2ba67e8cfdc1"
      },
      "source": [
        "from sklearn.cluster import DBSCAN\n",
        "from sklearn.cluster import KMeans\n",
        "from sklearn.cluster import OPTICS\n",
        "from sklearn.metrics import silhouette_score\n",
        "#clusterMd=DBSCAN(eps=0.4,min_samples=4)\n",
        "clusterMd=KMeans(n_clusters=20)\n",
        "#print(np.array(All_encodings).reshape((301,128)))\n",
        "clusterMd.fit(pca_encoding)\n",
        "print(clusterMd.labels_)\n",
        "print(\"the silhouette score is \"+str(silhouette_score(pca_encoding,clusterMd.labels_)))"
      ],
      "execution_count": 9,
      "outputs": [
        {
          "output_type": "stream",
          "text": [
            "[ 2 12 13 ... 19  4  1]\n",
            "the silhouette score is 0.33414889974451484\n"
          ],
          "name": "stdout"
        }
      ]
    }
  ]
}